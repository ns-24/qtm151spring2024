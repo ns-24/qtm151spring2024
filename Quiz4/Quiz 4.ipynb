{
 "cells": [
  {
   "cell_type": "markdown",
   "metadata": {},
   "source": [
    "# Quiz 4"
   ]
  },
  {
   "attachments": {},
   "cell_type": "markdown",
   "metadata": {},
   "source": [
    "## Try to submit as an HTML file"
   ]
  },
  {
   "attachments": {},
   "cell_type": "markdown",
   "metadata": {},
   "source": [
    "<font size = \"5\">\n",
    "Print your name below"
   ]
  },
  {
   "cell_type": "code",
   "execution_count": 1,
   "metadata": {},
   "outputs": [
    {
     "name": "stdout",
     "output_type": "stream",
     "text": [
      " Nolan Shah\n"
     ]
    }
   ],
   "source": [
    "# Write your answer here:\n",
    "print(\" Nolan Shah\")"
   ]
  },
  {
   "cell_type": "markdown",
   "metadata": {},
   "source": [
    "<font size = \"5\" >\n",
    "This quiz is open book \n",
    "\n",
    "- You can use the lecture notes\n",
    "- You will get partial credit for attempting the questions\n",
    "- To get full credit, the code should run as intended\n",
    "- You should <span style=\"color:red\"> NOT </span> communicate with other students\n",
    "\n",
    "Write the following message as a comment: <br>\n",
    "\n",
    "\"I will abide by Emory's code of conduct\"\n"
   ]
  },
  {
   "cell_type": "code",
   "execution_count": 2,
   "metadata": {},
   "outputs": [
    {
     "name": "stdout",
     "output_type": "stream",
     "text": [
      "I will abide by Emory's code of conduct\n"
     ]
    }
   ],
   "source": [
    "# Write your answer here:\n",
    "print(\"I will abide by Emory's code of conduct\")\n",
    "\n"
   ]
  },
  {
   "attachments": {},
   "cell_type": "markdown",
   "metadata": {},
   "source": [
    "<font size = \"5\">\n",
    "\n",
    "Establish a connection to the SQL server and database ```postgres``` <br>\n",
    "from Python as done in  class  using <br>\n",
    "```URL()``` and ```create_engine()```<br>\n",
    "As we are are in the default database, you can leave out the database argument."
   ]
  },
  {
   "cell_type": "code",
   "execution_count": 27,
   "metadata": {},
   "outputs": [],
   "source": [
    "# Write your answer here:\n",
    "from sqlalchemy import create_engine, text\n",
    "from sqlalchemy.engine import URL\n",
    "import pandas as pd\n",
    "\n",
    "# Establishing a connection to the SQL server\n",
    "connection_url = URL.create(\n",
    "    \"postgresql\",\n",
    "    username='postgres', \n",
    "    password= \"\",  \n",
    "    host='localhost',\n",
    "    port=5432,\n",
    "    database='postgres'\n",
    ")\n",
    "engine = create_engine(connection_url)\n",
    "\n",
    "\n"
   ]
  },
  {
   "attachments": {},
   "cell_type": "markdown",
   "metadata": {},
   "source": [
    "\n",
    "<font size = \"5\">\n",
    "\n",
    "(a) Upload dataset to SQL\n",
    "\n",
    "\n",
    "<font size = \"3\">\n",
    "\n",
    "- Read the files ```brand_data.csv``` and ```cars.csv``` in the ```data_raw``` folder\n",
    "- Upload both files to your local SQL server using the <br>\n",
    "\"to_sql\" command. Call the new datasets ```brand_data``` and ```cars```, respectively <br>\n",
    " in the server"
   ]
  },
  {
   "cell_type": "code",
   "execution_count": null,
   "metadata": {},
   "outputs": [],
   "source": [
    "# Write your answer here:\n",
    "\n",
    "brand_data = pd.read_csv(\"data_raw/brand_data.csv\")\n",
    "cars = pd.read_csv(\"data_raw/cars.csv\")\n",
    "\n",
    "\n",
    "brand_data.to_sql('brand_data', con=engine, if_exists='replace', index=False)\n",
    "cars.to_sql('cars', con=engine, if_exists='replace', index=False)\n",
    "\n",
    "\n"
   ]
  },
  {
   "cell_type": "markdown",
   "metadata": {},
   "source": [
    "\n",
    "<font size = \"5\">\n",
    "\n",
    "For questions (b)-(f) we will be working with the tables <br>\n",
    "``` cars ``` and ``` brands ``` in the SQL server. You are required to use <br>\n",
    "the ```read_sql``` command for all the following questions."
   ]
  },
  {
   "cell_type": "markdown",
   "metadata": {},
   "source": [
    "\n",
    "<font size = \"5\">\n",
    "\n",
    "(b) Subset and sort\n",
    "\n",
    "\n",
    "<font size = \"3\">\n",
    "\n",
    "- Use ```WHERE``` to get a subset of \"cars\" to subset <br>\n",
    "cars whose brand is ```\"Buick\"```\n",
    "- Chain this with ```ORDER BY driver_name ASC``` to sort in <br>\n",
    "ascending order <br>\n",
    "Hints:\n",
    "- Remember to include a  ```\\```  to be able to define strings over multiple lines\n",
    "- We can include single quotations in the WHERE command without any additional escape characters"
   ]
  },
  {
   "cell_type": "code",
   "execution_count": 33,
   "metadata": {},
   "outputs": [
    {
     "name": "stdout",
     "output_type": "stream",
     "text": [
      "   Unnamed: 0           make  price  mpg  rep78  headroom  trunk  weight  \\\n",
      "0           4  Buick Electra   7827   15    4.0       4.0     20    4080   \n",
      "1           8  Buick Riviera  10372   16    3.0       3.5     17    3880   \n",
      "2           5  Buick LeSabre   5788   18    3.0       4.0     21    3670   \n",
      "3           9  Buick Skylark   4082   19    3.0       3.5     13    3400   \n",
      "4           3  Buick Century   4816   20    3.0       4.5     16    3250   \n",
      "5           7    Buick Regal   5189   20    3.0       2.0     16    3280   \n",
      "6           6     Buick Opel   4453   26    NaN       3.0     10    2230   \n",
      "\n",
      "   length  turn  displacement  gear_ratio  brand  \n",
      "0     222    43           350        2.41  Buick  \n",
      "1     207    43           231        2.93  Buick  \n",
      "2     218    43           231        2.73  Buick  \n",
      "3     200    42           231        3.08  Buick  \n",
      "4     196    40           196        2.93  Buick  \n",
      "5     200    42           196        2.93  Buick  \n",
      "6     170    34           304        2.87  Buick  \n"
     ]
    }
   ],
   "source": [
    "# Write your answer here:\n",
    "\n",
    "buick_cars = pd.read_sql(text(\"SELECT * \\\n",
    "                              FROM cars \\\n",
    "                              WHERE brand = 'Buick' \\\n",
    "                                ORDER BY mpg ASC ; \" ), \n",
    "                            engine)\n",
    "print(buick_cars)\n",
    "\n",
    "\n"
   ]
  },
  {
   "attachments": {},
   "cell_type": "markdown",
   "metadata": {},
   "source": [
    "<font size = \"5\">\n",
    "\n",
    "(c) Groupby + Aggregate + Sort\n",
    "\n",
    "<font size = \"3\">\n",
    "\n",
    "- From ```cars```, obtain the average of \"mpg\" by \"brand\" using ```GROUP BY```\n",
    "- Use ```ORDER BY ``` to sort by the average of \"lap_times\"\n",
    "- Make sure to seperate pieces of your logic over seperate lines  by a ```\\```\n"
   ]
  },
  {
   "cell_type": "code",
   "execution_count": 34,
   "metadata": {},
   "outputs": [
    {
     "name": "stdout",
     "output_type": "stream",
     "text": [
      "      brand  average_mpg\n",
      "0     Linc.    12.666667\n",
      "1   Peugeot    14.000000\n",
      "2      Cad.    16.333333\n",
      "3     Volvo    17.000000\n",
      "4     Merc.    17.166667\n",
      "5     Buick    19.142857\n",
      "6      Olds    19.428571\n",
      "7     Pont.    19.500000\n",
      "8      Audi    20.000000\n",
      "9     Dodge    20.250000\n",
      "10      AMC    20.333333\n",
      "11     Fiat    21.000000\n",
      "12    Chev.    22.000000\n",
      "13   Toyota    22.333333\n",
      "14     Ford    24.500000\n",
      "15      BMW    25.000000\n",
      "16   Datsun    25.750000\n",
      "17  Renault    26.000000\n",
      "18    Plym.    26.200000\n",
      "19    Honda    26.500000\n",
      "20       VW    28.500000\n",
      "21    Mazda    30.000000\n",
      "22   Subaru    35.000000\n"
     ]
    }
   ],
   "source": [
    "# Write your answer here:\n",
    "\n",
    "average_mpg_by_brand = pd.read_sql(text(\"SELECT brand, AVG(mpg) AS average_mpg \\\n",
    "                                        FROM cars \\\n",
    "                                        GROUP BY brand \\\n",
    "                                        ORDER BY average_mpg ;\"), \n",
    "                                    engine)\n",
    "\n",
    "print(average_mpg_by_brand)\n",
    "\n",
    "\n"
   ]
  },
  {
   "attachments": {},
   "cell_type": "markdown",
   "metadata": {},
   "source": [
    "<font size = \"5\">\n",
    "\n",
    "(d) Groupby + Aggregate + Sort\n",
    "\n",
    "<font size = \"3\">\n",
    "\n",
    "- From ```cars``` obtain the average of \"mpg\" by brand using ```GROUP BY```\n",
    "- Use ```HAVING ``` to filter brands with an <br>\n",
    "average mpg strictly higher than 20\n",
    "- Make sure to seperate pieces of your logic over seperate lines  by a ```\\```\n",
    "\n",
    "HINT: See the end of lecture 16 for details <br>\n",
    "HINT: Use ```HAVING AVG(mpg)``` rather than an alias <br>\n",
    "for the code to work correctly."
   ]
  },
  {
   "cell_type": "code",
   "execution_count": 35,
   "metadata": {},
   "outputs": [
    {
     "name": "stdout",
     "output_type": "stream",
     "text": [
      "      brand  average_mpg\n",
      "0     Dodge    20.250000\n",
      "1       AMC    20.333333\n",
      "2      Fiat    21.000000\n",
      "3     Chev.    22.000000\n",
      "4    Toyota    22.333333\n",
      "5      Ford    24.500000\n",
      "6       BMW    25.000000\n",
      "7    Datsun    25.750000\n",
      "8   Renault    26.000000\n",
      "9     Plym.    26.200000\n",
      "10    Honda    26.500000\n",
      "11       VW    28.500000\n",
      "12    Mazda    30.000000\n",
      "13   Subaru    35.000000\n"
     ]
    }
   ],
   "source": [
    "# Write your answer here:\n",
    "\n",
    "high_mpg_brands = pd.read_sql(text(\"SELECT brand, AVG(mpg) AS average_mpg \\\n",
    "                                   FROM cars \\\n",
    "                                   GROUP BY brand \\\n",
    "                                   HAVING AVG(mpg) > 20 \\\n",
    "                                   ORDER BY average_mpg ;\"), engine)\n",
    "\n",
    "print(high_mpg_brands)\n",
    "\n",
    "\n"
   ]
  },
  {
   "attachments": {},
   "cell_type": "markdown",
   "metadata": {},
   "source": [
    "<font size = \"5\">\n",
    "\n",
    "(e) Groupby and multiple aggregations\n",
    "\n",
    "<font size = \"3\">\n",
    "\n",
    "-  From ```cars```, obtain the average, min, and max of each brand's price using ```GROUP BY```\n",
    "- Make sure to separate pieces of your code by a ```\\``` <br>"
   ]
  },
  {
   "cell_type": "code",
   "execution_count": 36,
   "metadata": {},
   "outputs": [
    {
     "name": "stdout",
     "output_type": "stream",
     "text": [
      "      brand  average_price  min_price  max_price\n",
      "0      Audi    7992.500000       6295       9690\n",
      "1    Toyota    5122.000000       3748       5899\n",
      "2   Renault    3895.000000       3895       3895\n",
      "3      Cad.   13930.333333      11385      15906\n",
      "4     Chev.    4372.333333       3299       5705\n",
      "5    Datsun    6006.500000       4589       8129\n",
      "6     Plym.    4820.000000       4060       6486\n",
      "7        VW    6021.000000       4697       7140\n",
      "8     Honda    5149.000000       4499       5799\n",
      "9      Olds    6050.857143       4181      10371\n",
      "10     Fiat    4296.000000       4296       4296\n",
      "11    Volvo   11995.000000      11995      11995\n",
      "12     Ford    4288.000000       4187       4389\n",
      "13    Buick    6075.285714       4082      10372\n",
      "14      AMC    4215.666667       3799       4749\n",
      "15    Dodge    5055.500000       3984       6342\n",
      "16    Linc.   12852.333333      11497      13594\n",
      "17    Pont.    4878.833333       4172       5798\n",
      "18    Merc.    4913.833333       3291       6303\n",
      "19   Subaru    3798.000000       3798       3798\n",
      "20  Peugeot   12990.000000      12990      12990\n",
      "21    Mazda    3995.000000       3995       3995\n",
      "22      BMW    9735.000000       9735       9735\n"
     ]
    }
   ],
   "source": [
    "# Write your answer here:\n",
    "\n",
    "price_stats_by_brand = pd.read_sql(text(\"SELECT brand, AVG(price) AS average_price, \\\n",
    "                                        MIN(price) AS min_price, MAX(price) AS max_price \\\n",
    "                                        FROM cars \\\n",
    "                                        GROUP BY brand ;\"), engine)\n",
    "print(price_stats_by_brand)\n",
    "\n",
    "\n"
   ]
  },
  {
   "cell_type": "markdown",
   "metadata": {},
   "source": [
    "<font size = \"5\">\n",
    "\n",
    "(f) Merge\n",
    "\n",
    "<font size = \"3\">\n",
    "\n",
    "- From ```cars```, ```LEFT JOIN``` the dataset ```brand_data``` <br>\n",
    "using ```brand``` as a merging variable. \n",
    "- Hint: See Lecture 19 for how to merge datasets\n"
   ]
  },
  {
   "cell_type": "code",
   "execution_count": 39,
   "metadata": {},
   "outputs": [
    {
     "name": "stdout",
     "output_type": "stream",
     "text": [
      "    Unnamed: 0           make  price  mpg  rep78  headroom  trunk  weight  \\\n",
      "0            2     AMC Spirit   3799   22    NaN       3.0     12    2640   \n",
      "1            1      AMC Pacer   4749   17    3.0       3.0     11    3350   \n",
      "2            0    AMC Concord   4099   22    3.0       2.5     11    2930   \n",
      "3            9  Buick Skylark   4082   19    3.0       3.5     13    3400   \n",
      "4            8  Buick Riviera  10372   16    3.0       3.5     17    3880   \n",
      "..         ...            ...    ...  ...    ...       ...    ...     ...   \n",
      "69          72    VW Scirocco   6850   25    4.0       2.0     16    1990   \n",
      "70          71      VW Rabbit   4697   25    4.0       3.0     15    1930   \n",
      "71          70      VW Diesel   5397   41    5.0       3.0     15    2040   \n",
      "72          69      VW Dasher   7140   23    4.0       2.5     12    2160   \n",
      "73          73      Volvo 260  11995   17    5.0       2.5     14    3170   \n",
      "\n",
      "    length  turn  displacement  gear_ratio  brand  Unnamed: 0  brand   foreign  \n",
      "0      168    35           121        3.08    AMC           0    AMC  Domestic  \n",
      "1      173    40           258        2.53    AMC           0    AMC  Domestic  \n",
      "2      186    40           121        3.58    AMC           0    AMC  Domestic  \n",
      "3      200    42           231        3.08  Buick           3  Buick  Domestic  \n",
      "4      207    43           231        2.93  Buick           3  Buick  Domestic  \n",
      "..     ...   ...           ...         ...    ...         ...    ...       ...  \n",
      "69     156    36            97        3.78     VW          69     VW   Foreign  \n",
      "70     155    35            89        3.78     VW          69     VW   Foreign  \n",
      "71     155    35            90        3.78     VW          69     VW   Foreign  \n",
      "72     172    36            97        3.74     VW          69     VW   Foreign  \n",
      "73     193    37           163        2.98  Volvo          73  Volvo   Foreign  \n",
      "\n",
      "[74 rows x 16 columns]\n"
     ]
    }
   ],
   "source": [
    "# Write your answer here:\n",
    "\n",
    "merged_data = pd.read_sql(text(\"SELECT cars.*, brand_data.* \\\n",
    "                               FROM cars \\\n",
    "                               LEFT JOIN brand_data \\\n",
    "                               ON cars.brand = brand_data.brand ;\"), con=engine)\n",
    "print(merged_data)\n",
    "\n",
    "\n"
   ]
  }
 ],
 "metadata": {
  "kernelspec": {
   "display_name": "base",
   "language": "python",
   "name": "python3"
  },
  "language_info": {
   "codemirror_mode": {
    "name": "ipython",
    "version": 3
   },
   "file_extension": ".py",
   "mimetype": "text/x-python",
   "name": "python",
   "nbconvert_exporter": "python",
   "pygments_lexer": "ipython3",
   "version": "3.11.5"
  },
  "orig_nbformat": 4,
  "vscode": {
   "interpreter": {
    "hash": "45fc1f684f6f416f40889115beff3ddf69879b64cf4bfee48cb72a61e9d15d1a"
   }
  }
 },
 "nbformat": 4,
 "nbformat_minor": 2
}
