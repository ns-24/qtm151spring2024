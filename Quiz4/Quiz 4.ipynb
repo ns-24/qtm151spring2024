{
 "cells": [
  {
   "cell_type": "markdown",
   "metadata": {},
   "source": [
    "# Quiz 4"
   ]
  },
  {
   "attachments": {},
   "cell_type": "markdown",
   "metadata": {},
   "source": [
    "## Try to submit as an HTML file"
   ]
  },
  {
   "attachments": {},
   "cell_type": "markdown",
   "metadata": {},
   "source": [
    "<font size = \"5\">\n",
    "Print your name below"
   ]
  },
  {
   "cell_type": "code",
   "execution_count": 1,
   "metadata": {},
   "outputs": [
    {
     "name": "stdout",
     "output_type": "stream",
     "text": [
      " Nolan Shah\n"
     ]
    }
   ],
   "source": [
    "# Write your answer here:\n",
    "print(\" Nolan Shah\")"
   ]
  },
  {
   "cell_type": "markdown",
   "metadata": {},
   "source": [
    "<font size = \"5\" >\n",
    "This quiz is open book \n",
    "\n",
    "- You can use the lecture notes\n",
    "- You will get partial credit for attempting the questions\n",
    "- To get full credit, the code should run as intended\n",
    "- You should <span style=\"color:red\"> NOT </span> communicate with other students\n",
    "\n",
    "Write the following message as a comment: <br>\n",
    "\n",
    "\"I will abide by Emory's code of conduct\"\n"
   ]
  },
  {
   "cell_type": "code",
   "execution_count": 2,
   "metadata": {},
   "outputs": [
    {
     "name": "stdout",
     "output_type": "stream",
     "text": [
      "I will abide by Emory's code of conduct\n"
     ]
    }
   ],
   "source": [
    "# Write your answer here:\n",
    "print(\"I will abide by Emory's code of conduct\")\n",
    "\n"
   ]
  },
  {
   "attachments": {},
   "cell_type": "markdown",
   "metadata": {},
   "source": [
    "<font size = \"5\">\n",
    "\n",
    "Establish a connection to the SQL server and database ```postgres``` <br>\n",
    "from Python as done in  class  using <br>\n",
    "```URL()``` and ```create_engine()```<br>\n",
    "As we are are in the default database, you can leave out the database argument."
   ]
  },
  {
   "cell_type": "code",
   "execution_count": 3,
   "metadata": {},
   "outputs": [],
   "source": [
    "# Write your answer here:\n",
    "from sqlalchemy import create_engine, text\n",
    "from sqlalchemy.engine import URL\n",
    "import pandas as pd\n",
    "\n",
    "# Establishing a connection to the SQL server\n",
    "connection_url = URL.create(\n",
    "    \"postgresql\",\n",
    "    username='your_username',  # Replace with your username\n",
    "    password='your_password',  # Replace with your password\n",
    "    host='localhost',\n",
    "    port=5432,\n",
    "    database='postgres'\n",
    ")\n",
    "engine = create_engine(connection_url)\n",
    "\n",
    "\n"
   ]
  },
  {
   "attachments": {},
   "cell_type": "markdown",
   "metadata": {},
   "source": [
    "\n",
    "<font size = \"5\">\n",
    "\n",
    "(a) Upload dataset to SQL\n",
    "\n",
    "\n",
    "<font size = \"3\">\n",
    "\n",
    "- Read the files ```brand_data.csv``` and ```cars.csv``` in the ```data_raw``` folder\n",
    "- Upload both files to your local SQL server using the <br>\n",
    "\"to_sql\" command. Call the new datasets ```brand_data``` and ```cars```, respectively <br>\n",
    " in the server"
   ]
  },
  {
   "cell_type": "code",
   "execution_count": 4,
   "metadata": {},
   "outputs": [],
   "source": [
    "# Write your answer here:\n",
    "# Reading the CSV files\n",
    "brand_data = pd.read_csv(\"data_raw/brand_data.csv\")\n",
    "cars = pd.read_csv(\"data_raw/cars.csv\")\n",
    "\n",
    "# Uploading to SQL server\n",
    "brand_data.to_sql('brand_data', con=engine, if_exists='replace', index=False)\n",
    "cars.to_sql('cars', con=engine, if_exists='replace', index=False)\n",
    "\n",
    "\n"
   ]
  },
  {
   "cell_type": "markdown",
   "metadata": {},
   "source": [
    "\n",
    "<font size = \"5\">\n",
    "\n",
    "For questions (b)-(f) we will be working with the tables <br>\n",
    "``` cars ``` and ``` brands ``` in the SQL server. You are required to use <br>\n",
    "the ```read_sql``` command for all the following questions."
   ]
  },
  {
   "cell_type": "markdown",
   "metadata": {},
   "source": [
    "\n",
    "<font size = \"5\">\n",
    "\n",
    "(b) Subset and sort\n",
    "\n",
    "\n",
    "<font size = \"3\">\n",
    "\n",
    "- Use ```WHERE``` to get a subset of \"cars\" to subset <br>\n",
    "cars whose brand is ```\"Buick\"```\n",
    "- Chain this with ```ORDER BY driver_name ASC``` to sort in <br>\n",
    "ascending order <br>\n",
    "Hints:\n",
    "- Remember to include a  ```\\```  to be able to define strings over multiple lines\n",
    "- We can include single quotations in the WHERE command without any additional escape characters"
   ]
  },
  {
   "cell_type": "code",
   "execution_count": 5,
   "metadata": {},
   "outputs": [],
   "source": [
    "# Write your answer here:\n",
    "query_b = \"\"\"\n",
    "SELECT * \n",
    "FROM cars\n",
    "WHERE brand = 'Buick'\n",
    "ORDER BY driver_name ASC;\n",
    "\"\"\"\n",
    "\n",
    "# Using pd.read_sql to execute the query\n",
    "buick_cars = pd.read_sql(text(query_b), con=engine)\n",
    "print(buick_cars)\n",
    "\n",
    "\n"
   ]
  },
  {
   "attachments": {},
   "cell_type": "markdown",
   "metadata": {},
   "source": [
    "<font size = \"5\">\n",
    "\n",
    "(c) Groupby + Aggregate + Sort\n",
    "\n",
    "<font size = \"3\">\n",
    "\n",
    "- From ```cars```, obtain the average of \"mpg\" by \"brand\" using ```GROUP BY```\n",
    "- Use ```ORDER BY ``` to sort by the average of \"lap_times\"\n",
    "- Make sure to seperate pieces of your logic over seperate lines  by a ```\\```\n"
   ]
  },
  {
   "cell_type": "code",
   "execution_count": 6,
   "metadata": {},
   "outputs": [],
   "source": [
    "# Write your answer here:\n",
    "query_c = \"\"\"\n",
    "SELECT brand, AVG(mpg) AS average_mpg\n",
    "FROM cars\n",
    "GROUP BY brand\n",
    "ORDER BY average_mpg;\n",
    "\"\"\"\n",
    "\n",
    "average_mpg_by_brand = pd.read_sql(text(query_c), con=engine)\n",
    "print(average_mpg_by_brand)\n",
    "\n",
    "\n"
   ]
  },
  {
   "attachments": {},
   "cell_type": "markdown",
   "metadata": {},
   "source": [
    "<font size = \"5\">\n",
    "\n",
    "(d) Groupby + Aggregate + Sort\n",
    "\n",
    "<font size = \"3\">\n",
    "\n",
    "- From ```cars``` obtain the average of \"mpg\" by brand using ```GROUP BY```\n",
    "- Use ```HAVING ``` to filter brands with an <br>\n",
    "average mpg strictly higher than 20\n",
    "- Make sure to seperate pieces of your logic over seperate lines  by a ```\\```\n",
    "\n",
    "HINT: See the end of lecture 16 for details <br>\n",
    "HINT: Use ```HAVING AVG(mpg)``` rather than an alias <br>\n",
    "for the code to work correctly."
   ]
  },
  {
   "cell_type": "code",
   "execution_count": 7,
   "metadata": {},
   "outputs": [],
   "source": [
    "# Write your answer here:\n",
    "query_d = \"\"\"\n",
    "SELECT brand, AVG(mpg) AS average_mpg\n",
    "FROM cars\n",
    "GROUP BY brand\n",
    "HAVING AVG(mpg) > 20\n",
    "ORDER BY average_mpg;\n",
    "\"\"\"\n",
    "\n",
    "high_mpg_brands = pd.read_sql(text(query_d), con=engine)\n",
    "print(high_mpg_brands)\n",
    "\n",
    "\n"
   ]
  },
  {
   "attachments": {},
   "cell_type": "markdown",
   "metadata": {},
   "source": [
    "<font size = \"5\">\n",
    "\n",
    "(e) Groupby and multiple aggregations\n",
    "\n",
    "<font size = \"3\">\n",
    "\n",
    "-  From ```cars```, obtain the average, min, and max of each brand's price using ```GROUP BY```\n",
    "- Make sure to separate pieces of your code by a ```\\``` <br>"
   ]
  },
  {
   "cell_type": "code",
   "execution_count": 8,
   "metadata": {},
   "outputs": [],
   "source": [
    "# Write your answer here:\n",
    "query_e = \"\"\"\n",
    "SELECT brand, AVG(price) AS average_price, MIN(price) AS min_price, MAX(price) AS max_price\n",
    "FROM cars\n",
    "GROUP BY brand;\n",
    "\"\"\"\n",
    "\n",
    "price_stats_by_brand = pd.read_sql(text(query_e), con=engine)\n",
    "print(price_stats_by_brand)\n",
    "\n",
    "\n"
   ]
  },
  {
   "cell_type": "markdown",
   "metadata": {},
   "source": [
    "<font size = \"5\">\n",
    "\n",
    "(f) Merge\n",
    "\n",
    "<font size = \"3\">\n",
    "\n",
    "- From ```cars```, ```LEFT JOIN``` the dataset ```brand_data``` <br>\n",
    "using ```brand``` as a merging variable. \n",
    "- Hint: See Lecture 19 for how to merge datasets\n"
   ]
  },
  {
   "cell_type": "code",
   "execution_count": 9,
   "metadata": {},
   "outputs": [],
   "source": [
    "# Write your answer here:\n",
    "query_f = \"\"\"\n",
    "SELECT cars.*, brand_data.*\n",
    "FROM cars\n",
    "LEFT JOIN brand_data ON cars.brand = brand_data.brand;\n",
    "\"\"\"\n",
    "\n",
    "merged_data = pd.read_sql(text(query_f), con=engine)\n",
    "print(merged_data)\n",
    "\n",
    "\n"
   ]
  }
 ],
 "metadata": {
  "kernelspec": {
   "display_name": "base",
   "language": "python",
   "name": "python3"
  },
  "language_info": {
   "codemirror_mode": {
    "name": "ipython",
    "version": 3
   },
   "file_extension": ".py",
   "mimetype": "text/x-python",
   "name": "python",
   "nbconvert_exporter": "python",
   "pygments_lexer": "ipython3",
   "version": "3.11.5"
  },
  "orig_nbformat": 4,
  "vscode": {
   "interpreter": {
    "hash": "45fc1f684f6f416f40889115beff3ddf69879b64cf4bfee48cb72a61e9d15d1a"
   }
  }
 },
 "nbformat": 4,
 "nbformat_minor": 2
}
