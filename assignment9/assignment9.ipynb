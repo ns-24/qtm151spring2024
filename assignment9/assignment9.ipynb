{
 "cells": [
  {
   "attachments": {},
   "cell_type": "markdown",
   "metadata": {},
   "source": [
    "# Assignment 9"
   ]
  },
  {
   "attachments": {},
   "cell_type": "markdown",
   "metadata": {},
   "source": [
    "## Try to submit as an HTML file"
   ]
  },
  {
   "attachments": {},
   "cell_type": "markdown",
   "metadata": {},
   "source": [
    "<font size = \"5\">\n",
    "Print your Emory ID below"
   ]
  },
  {
   "cell_type": "code",
   "execution_count": 1,
   "metadata": {},
   "outputs": [
    {
     "name": "stdout",
     "output_type": "stream",
     "text": [
      "243 2916\n"
     ]
    }
   ],
   "source": [
    "# Write your answer here:\n",
    "print(\"243 2916\")"
   ]
  },
  {
   "attachments": {},
   "cell_type": "markdown",
   "metadata": {},
   "source": [
    "<font size = \"5\">\n",
    "\n",
    "Import the \"pandas\" and \n",
    "\n",
    "\"sqlalchemy\",\"URL\", and \"text\" libraries from \"sqlalchemy\" <br>\n"
   ]
  },
  {
   "cell_type": "code",
   "execution_count": 2,
   "metadata": {},
   "outputs": [],
   "source": [
    "# Write your answer here:\n",
    "\n",
    "import pandas as pd\n",
    "from sqlalchemy import create_engine\n",
    "from sqlalchemy.engine import URL\n",
    "from sqlalchemy import text\n"
   ]
  },
  {
   "attachments": {},
   "cell_type": "markdown",
   "metadata": {},
   "source": [
    "<font size = \"5\">\n",
    "\n",
    "Establish a connection to the SQL server and database ```postgres``` <br>\n",
    "from Python as done in  class  using <br>\n",
    "```URL()``` and ```create_engine()```<br>\n",
    "As we are are in the default database, you can leave out the database argument."
   ]
  },
  {
   "cell_type": "code",
   "execution_count": 3,
   "metadata": {},
   "outputs": [],
   "source": [
    "# Write your own code\n",
    "\n",
    "connection_url = URL.create(\n",
    "    \"postgresql\",\n",
    "    username='postgres',\n",
    "    host='localhost',\n",
    "    port=5432\n",
    ")\n",
    "engine = create_engine(connection_url)\n"
   ]
  },
  {
   "attachments": {},
   "cell_type": "markdown",
   "metadata": {},
   "source": [
    "<font size = \"5\">\n",
    "\n",
    "In this homework, you will repeat most of the  exercises in <br>\n",
    "Assignment 8, this time accessing SQL indirectly <br>\n",
    "from Python\n",
    "\n",
    "<font size = \"3\">\n",
    "\n",
    "- For (a)-(e) read the section <br>\n",
    "on \"Escape Characters\" carefully and how to write <br>\n",
    "strings in multiple lines\n",
    "- Ensure for each exercise you are using the specific Python commands(ie-pd.read_sql)"
   ]
  },
  {
   "attachments": {},
   "cell_type": "markdown",
   "metadata": {},
   "source": [
    "\n",
    "<font size = \"5\">\n",
    "\n",
    "(a) Upload dataset to SQL\n",
    "\n",
    "\n",
    "<font size = \"3\">\n",
    "\n",
    "- Read the file \"homework9_table.csv\" in the \"data_raw\" folder\n",
    "- Upload the file to your local SQL server using the <br>\n",
    "\"to_sql\" command. Call the new file \"sprint_results\" in the <br>\n",
    "server"
   ]
  },
  {
   "cell_type": "code",
   "execution_count": 15,
   "metadata": {},
   "outputs": [
    {
     "name": "stdout",
     "output_type": "stream",
     "text": [
      "   Unnamed: 0  driver_id         driver_name nationality  lap_times\n",
      "0           0          1        Simon Cowell     British         74\n",
      "1           1          2     Fernando Alonso     Spanish         26\n",
      "2           2          3       Heinrich Bach      German         82\n",
      "3           3          4     Giorgio Soprano     Spanish         87\n",
      "4           4          5      Lewis Hamilton     British        103\n",
      "5           5          6        Henry Louvre     British         32\n",
      "6           6          7    Sebastian Vettel      German         91\n",
      "7           7          8          Lukas Zech      German         53\n",
      "8           8          9         Donic Kovak      German         11\n",
      "9           9         10  Michael Holzmieter      German         24\n"
     ]
    }
   ],
   "source": [
    "# Write your own code\n",
    "\n",
    "homework9_table = pd.read_csv(\"data_raw/homework9_table.csv\")\n",
    "\n",
    "\n",
    "homework9_table.to_sql('sprint_results', con=engine, if_exists='replace', index=False)\n",
    "\n",
    "print(homework9_table)\n",
    "\n"
   ]
  },
  {
   "cell_type": "markdown",
   "metadata": {},
   "source": [
    "\n",
    "<font size = \"5\">\n",
    "\n",
    "For questions (b)-(e) we will be working with the table <br>\n",
    "``` homework9_table ``` in the SQL server. You are required to use <br>\n",
    "the ```read_sql``` command for all the following questions."
   ]
  },
  {
   "cell_type": "markdown",
   "metadata": {},
   "source": [
    "\n",
    "<font size = \"5\">\n",
    "\n",
    "(b) Subset and sort\n",
    "\n",
    "\n",
    "<font size = \"3\">\n",
    "\n",
    "- Use ```WHERE``` to get a subset of \"homework9_table\" to subset <br>\n",
    "drivers whose nationality is British.\n",
    "- Chain this with ```ORDER BY driver_name ASC``` to sort in <br>\n",
    "ascending order <br>\n",
    "Hints:\n",
    "- Remember to include a  ```\\```  to be able to define strings over multiple lines\n",
    "- We can include single quotations in the WHERE command without any additional escape characters"
   ]
  },
  {
   "cell_type": "code",
   "execution_count": 16,
   "metadata": {},
   "outputs": [
    {
     "name": "stdout",
     "output_type": "stream",
     "text": [
      "   Unnamed: 0  driver_id     driver_name nationality  lap_times\n",
      "0           5          6    Henry Louvre     British         32\n",
      "1           4          5  Lewis Hamilton     British        103\n",
      "2           0          1    Simon Cowell     British         74\n"
     ]
    }
   ],
   "source": [
    "# Write your own code\n",
    "\n",
    "query = \"\"\"\n",
    "SELECT * \n",
    "FROM sprint_results \n",
    "WHERE nationality = 'British' \n",
    "ORDER BY driver_name ASC;\n",
    "\"\"\"\n",
    "\n",
    "british_drivers = pd.read_sql(text(query), con=engine)\n",
    "\n",
    "print(british_drivers)\n",
    "\n"
   ]
  },
  {
   "attachments": {},
   "cell_type": "markdown",
   "metadata": {},
   "source": [
    "<font size = \"5\">\n",
    "\n",
    "(c) Groupby + Aggregate + Sort\n",
    "\n",
    "<font size = \"3\">\n",
    "\n",
    "- Obtain the average of \"lap_times\" by \"driverId\" using ```GROUP BY```\n",
    "- Use ```ORDER BY ``` to sort by the average of \"lap_times\"\n",
    "- Make sure to seperate pieces of your logic over seperate lines  by a ```\\```\n"
   ]
  },
  {
   "cell_type": "code",
   "execution_count": 17,
   "metadata": {},
   "outputs": [
    {
     "name": "stdout",
     "output_type": "stream",
     "text": [
      "   driver_id  average_lap_times\n",
      "0          9               11.0\n",
      "1         10               24.0\n",
      "2          2               26.0\n",
      "3          6               32.0\n",
      "4          8               53.0\n",
      "5          1               74.0\n",
      "6          3               82.0\n",
      "7          4               87.0\n",
      "8          7               91.0\n",
      "9          5              103.0\n"
     ]
    }
   ],
   "source": [
    "# Write your own code\n",
    "\n",
    "query_c = \"\"\"\n",
    "SELECT driver_Id, AVG(lap_times) AS average_lap_times \n",
    "FROM sprint_results \n",
    "GROUP BY driver_Id \n",
    "ORDER BY average_lap_times;\n",
    "\"\"\"\n",
    "\n",
    "average_lap_times = pd.read_sql(text(query_c), con=engine)\n",
    "\n",
    "print(average_lap_times)\n",
    "\n",
    "\n",
    "\n"
   ]
  },
  {
   "attachments": {},
   "cell_type": "markdown",
   "metadata": {},
   "source": [
    "<font size = \"5\">\n",
    "\n",
    "(d) Groupby + Aggregate + Sort\n",
    "\n",
    "<font size = \"3\">\n",
    "\n",
    "- Obtain the sum of \"lap_times\" by nationality using ```GROUP BY```\n",
    "- Use ```HAVING ``` to filter nationalities with a sum <br>\n",
    "of lap times strictly higher than 150\n",
    "- Make sure to seperate pieces of your logic over seperate lines  by a ```\\```\n",
    "\n",
    "\n",
    "\n",
    "HINT: See the end of lecture 16 for details <br>\n",
    "HINT: Use ```HAVING SUM(lap_times)``` rather than an alias <br>\n",
    "for the code to work correctly."
   ]
  },
  {
   "cell_type": "code",
   "execution_count": 18,
   "metadata": {},
   "outputs": [
    {
     "name": "stdout",
     "output_type": "stream",
     "text": [
      "  nationality  total_lap_times\n",
      "0      German            261.0\n",
      "1     British            209.0\n"
     ]
    }
   ],
   "source": [
    "# Write your own code\n",
    "\n",
    "query_d = \"\"\"\n",
    "SELECT nationality, SUM(lap_times) AS total_lap_times\n",
    "FROM sprint_results\n",
    "GROUP BY nationality\n",
    "HAVING SUM(lap_times) > 150;\n",
    "\"\"\"\n",
    "\n",
    "total_lap_times = pd.read_sql(text(query_d), con=engine)\n",
    "\n",
    "print(total_lap_times)\n",
    "\n"
   ]
  },
  {
   "attachments": {},
   "cell_type": "markdown",
   "metadata": {},
   "source": [
    "<font size = \"5\">\n",
    "\n",
    "(e) Groupby and multiple aggregations\n",
    "\n",
    "<font size = \"3\">\n",
    "\n",
    "- In this exercise we will obtain multiple statistics about each nationality and their lap times.\n",
    "-  Obtain the sum, min, max, and range of each nationality's lap times using ```GROUP BY```\n",
    "- Make sure to separate pieces of your code by a ```\\``` <br>\n",
    "HINT: There is no built in range function in SQL, however you can use the <br>\n",
    "MAX and MIN functions to build your own function, like this:\n",
    "\n",
    "``` MAX(lap_times)-MIN(lap_times) AS range_laptimes```"
   ]
  },
  {
   "cell_type": "code",
   "execution_count": 19,
   "metadata": {},
   "outputs": [
    {
     "name": "stdout",
     "output_type": "stream",
     "text": [
      "  nationality  total_lap_times  min_lap_times  max_lap_times  range_lap_times\n",
      "0      German            261.0             11             91               80\n",
      "1     Spanish            113.0             26             87               61\n",
      "2     British            209.0             32            103               71\n"
     ]
    }
   ],
   "source": [
    "# Write your own code\n",
    "\n",
    "query_e = \"\"\"\n",
    "SELECT nationality, \n",
    "       SUM(lap_times) AS total_lap_times, \n",
    "       MIN(lap_times) AS min_lap_times,\n",
    "       MAX(lap_times) AS max_lap_times,\n",
    "       MAX(lap_times) - MIN(lap_times) AS range_lap_times\n",
    "FROM sprint_results\n",
    "GROUP BY nationality;\n",
    "\"\"\"\n",
    "\n",
    "lap_time_stats = pd.read_sql(text(query_e), con=engine)\n",
    "\n",
    "print(lap_time_stats)\n"
   ]
  }
 ],
 "metadata": {
  "kernelspec": {
   "display_name": "base",
   "language": "python",
   "name": "python3"
  },
  "language_info": {
   "codemirror_mode": {
    "name": "ipython",
    "version": 3
   },
   "file_extension": ".py",
   "mimetype": "text/x-python",
   "name": "python",
   "nbconvert_exporter": "python",
   "pygments_lexer": "ipython3",
   "version": "3.11.5"
  },
  "orig_nbformat": 4,
  "vscode": {
   "interpreter": {
    "hash": "45fc1f684f6f416f40889115beff3ddf69879b64cf4bfee48cb72a61e9d15d1a"
   }
  }
 },
 "nbformat": 4,
 "nbformat_minor": 2
}
