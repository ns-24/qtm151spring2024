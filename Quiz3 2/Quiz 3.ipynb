{
 "cells": [
  {
   "attachments": {},
   "cell_type": "markdown",
   "metadata": {},
   "source": [
    "# <span style=\"color:darkblue\"> QTM 151 - Quiz 3 </span>"
   ]
  },
  {
   "attachments": {},
   "cell_type": "markdown",
   "metadata": {},
   "source": [
    "## Try to submit as an HTML file"
   ]
  },
  {
   "attachments": {},
   "cell_type": "markdown",
   "metadata": {},
   "source": [
    "<font size=\"5\"> \n",
    "\n",
    "Print your name below"
   ]
  },
  {
   "cell_type": "code",
   "execution_count": 18,
   "metadata": {},
   "outputs": [
    {
     "name": "stdout",
     "output_type": "stream",
     "text": [
      "Nolan Shah\n"
     ]
    }
   ],
   "source": [
    "# Write your answer here\n",
    "\n",
    "print(\"Nolan Shah\")"
   ]
  },
  {
   "attachments": {},
   "cell_type": "markdown",
   "metadata": {},
   "source": [
    "<font size = \"5\" >\n",
    "This quiz is open book \n",
    "\n",
    "- You can use the lecture notes\n",
    "- You will get partial credit for attempting the questions\n",
    "- To get full credit, the code should run as intended\n",
    "- You should <span style=\"color:red\"> NOT </span> communicate with other students\n",
    "\n",
    "Print the following message: <br>\n",
    "\n",
    "\"I will abide by Emory's code of conduct\"\n"
   ]
  },
  {
   "cell_type": "code",
   "execution_count": 17,
   "metadata": {},
   "outputs": [
    {
     "name": "stdout",
     "output_type": "stream",
     "text": [
      "I will abide by Emory's code of conduct\n"
     ]
    }
   ],
   "source": [
    "# Write your answer here:\n",
    "print(\"I will abide by Emory's code of conduct\")\n"
   ]
  },
  {
   "attachments": {},
   "cell_type": "markdown",
   "metadata": {},
   "source": [
    "<font size = \"5\">\n",
    "\n",
    "Import the libraries \"numpy\" and \"pandas\""
   ]
  },
  {
   "cell_type": "code",
   "execution_count": 16,
   "metadata": {},
   "outputs": [],
   "source": [
    "# Write your answer here\n",
    "\n",
    "import numpy as np\n",
    "import pandas as pd\n"
   ]
  },
  {
   "cell_type": "markdown",
   "metadata": {},
   "source": [
    "\n",
    "<font size = \"5\">\n",
    "\n",
    "(a) Replace the values of a column\n",
    "\n",
    "<font size = \"3\">\n",
    "\n",
    "- Import the \"data_raw/constructors.csv\" file\n",
    "- Replace the values \"British\", \"American\", and \"Dutch\" with <br>\n",
    "\"UK\", \"USA\", \"Netherlands\" in the column \"nationality\"\n",
    "\n",
    "\n",
    "HINT: See the example in Lecture 12"
   ]
  },
  {
   "cell_type": "code",
   "execution_count": 15,
   "metadata": {},
   "outputs": [
    {
     "name": "stdout",
     "output_type": "stream",
     "text": [
      "   constructorId constructorRef        name nationality  \\\n",
      "0              1        mclaren     McLaren          UK   \n",
      "1              2     bmw_sauber  BMW Sauber      German   \n",
      "2              3       williams    Williams          UK   \n",
      "3              4        renault     Renault      French   \n",
      "4              5     toro_rosso  Toro Rosso     Italian   \n",
      "\n",
      "                                                 url  \n",
      "0               http://en.wikipedia.org/wiki/McLaren  \n",
      "1            http://en.wikipedia.org/wiki/BMW_Sauber  \n",
      "2  http://en.wikipedia.org/wiki/Williams_Grand_Pr...  \n",
      "3  http://en.wikipedia.org/wiki/Renault_in_Formul...  \n",
      "4   http://en.wikipedia.org/wiki/Scuderia_Toro_Rosso  \n"
     ]
    }
   ],
   "source": [
    "# Write your own code\n",
    "\n",
    "# Import constructors dataset\n",
    "constructors = pd.read_csv(\"data_raw/constructors.csv\")\n",
    "\n",
    "# Replace \"British\" with \"UK\", \"American\" with \"USA\", and \"Dutch\", with \"Netherlands\"\n",
    "constructors['nationality'] = constructors['nationality'].replace({\n",
    "    \"British\": \"UK\",\n",
    "    \"American\": \"USA\",\n",
    "    \"Dutch\": \"Netherlands\"\n",
    "})\n",
    "\n",
    "# Print the revised dataset\n",
    "print(constructors.head())\n",
    "\n"
   ]
  },
  {
   "cell_type": "markdown",
   "metadata": {},
   "source": [
    "<font size = \"5\">\n",
    "\n",
    "\n",
    "<span style=\"color:red\"> For QUESTIONS (b)-(e): </span>\n",
    "\n",
    "<span style=\"color:red\"> Import the \"data_raw/sprint_results.csv\" file </span>\n",
    "\n",
    "\n",
    "(b) Recode a numeric colum\n",
    "\n",
    "<font size = \"3\">\n",
    "\n",
    "- Recode the \"points\" column into a new column \"points_brackets\" <br>\n",
    "with the following categories\n",
    "\n",
    "$\\qquad$ ``` [\"0-20\",\"21-30\",\"31-100\"] ```\n",
    "\n",
    "$\\qquad$ HINT: Use the \"pd.cut()\" command. See Lecture 12 <br>\n",
    "$\\qquad$ HINT: Be careful about the left and right points of <br>\n",
    "$\\qquad$ interval to make sure that you classify the points correctly"
   ]
  },
  {
   "cell_type": "code",
   "execution_count": 28,
   "metadata": {},
   "outputs": [
    {
     "name": "stdout",
     "output_type": "stream",
     "text": [
      "   points points_brackets\n",
      "0       3            0-20\n",
      "1       2            0-20\n",
      "2       1            0-20\n",
      "3       0            0-20\n",
      "4       0            0-20\n",
      "[3 2 1 0 8 7 6 5 4]\n"
     ]
    }
   ],
   "source": [
    "# Write your own code:\n",
    "\n",
    "# Import the sprint_results dataset\n",
    "sprint_results = pd.read_csv(\"data_raw/sprint_results.csv\")\n",
    "\n",
    "# Use pd.cut command\n",
    "sprint_results['points_brackets'] = pd.cut(sprint_results['points'], \n",
    "                                           bins=[-np.inf, 20, 30, np.inf], \n",
    "                                           labels=[\"0-20\", \"21-30\", \"31-100\"], \n",
    "                                           right= False)\n",
    "\n",
    "\n",
    "print(sprint_results[['points', 'points_brackets']].head())\n",
    "\n",
    "print(sprint_results['points'].unique())\n"
   ]
  },
  {
   "cell_type": "markdown",
   "metadata": {},
   "source": [
    "<font size = \"5\">\n",
    "\n",
    "(c) Aggregate and query\n",
    "\n",
    "<font size = \"3\">\n",
    "\n",
    "- Subset the observations for 'raceId <= 1070' using ```.query()```\n",
    "- Obtain the maximum of \"points\" by \"driverId\" <br>  using ``` .groupby().agg() ``` and save this to <br>\n",
    "a new dataset called \"aggregate_data\"\n",
    "- From \"aggregate_data\" subset the drivers with a maximum number of points $>= 1$\n",
    "- Display the resulting dataset\n",
    "\n",
    "\n",
    "Hint: See Lecture 15"
   ]
  },
  {
   "cell_type": "code",
   "execution_count": 29,
   "metadata": {},
   "outputs": [
    {
     "name": "stdout",
     "output_type": "stream",
     "text": [
      "   driverId  max_points\n",
      "0         1           2\n",
      "6       817           1\n",
      "7       822           3\n",
      "8       830           3\n"
     ]
    }
   ],
   "source": [
    "# Write your own code\n",
    "\n",
    "# Subset using .query()\n",
    "subset_data = sprint_results.query('raceId <= 1070')\n",
    "\n",
    "# Find the maximum of \"point\" by \"driverID\"\n",
    "aggregate_data = subset_data.groupby('driverId')['points'].agg(max_points='max').reset_index()\n",
    "\n",
    "# Subset the data for drivers with a maximum number of points greater than 1\n",
    "filtered_data = aggregate_data.query('max_points >= 1')\n",
    "\n",
    "\n",
    "print(filtered_data)\n",
    "\n",
    "\n",
    "\n"
   ]
  },
  {
   "cell_type": "markdown",
   "metadata": {},
   "source": [
    "<font size = \"5\">\n",
    "\n",
    "(d) Aggregate and sort\n",
    "\n",
    "<font size = \"3\">\n",
    "\n",
    "- Obtain the mean of \"points\" by \"driverId\" <br>  using ``` .groupby().agg() ```\n",
    "- Sort the drivers in descending order using of <br>\n",
    "the mean of points using ``` .sort_values() ```\n",
    "\n",
    "\n",
    "Hint: See Lecture 15"
   ]
  },
  {
   "cell_type": "code",
   "execution_count": 30,
   "metadata": {},
   "outputs": [
    {
     "name": "stdout",
     "output_type": "stream",
     "text": [
      "    driverId    points\n",
      "9        830  4.666667\n",
      "10       832  3.166667\n",
      "15       844  2.833333\n",
      "5        815  2.333333\n",
      "17       847  2.166667\n",
      "0          1  1.500000\n",
      "7        822  1.500000\n",
      "8        825  1.333333\n",
      "16       846  1.000000\n",
      "6        817  0.666667\n",
      "11       839  0.500000\n",
      "22       854  0.000000\n",
      "21       853  0.000000\n",
      "20       852  0.000000\n",
      "19       849  0.000000\n",
      "18       848  0.000000\n",
      "12       840  0.000000\n",
      "14       842  0.000000\n",
      "13       841  0.000000\n",
      "1          4  0.000000\n",
      "4         20  0.000000\n",
      "3          9  0.000000\n",
      "2          8  0.000000\n",
      "23       855  0.000000\n"
     ]
    }
   ],
   "source": [
    "# Write your own code\n",
    "\n",
    "# Find mean of \"points\" by \"driverID\"\n",
    "mean_points_by_driver = sprint_results.groupby('driverId')['points'].agg('mean').reset_index()\n",
    "\n",
    "# Sort the drivers in descending order\n",
    "mean_points_by_driver = mean_points_by_driver.sort_values(by='points', ascending=False)\n",
    "\n",
    "print(mean_points_by_driver)\n",
    "\n",
    "\n",
    "\n",
    "\n"
   ]
  },
  {
   "cell_type": "markdown",
   "metadata": {},
   "source": [
    "<font size = \"5\">\n",
    "\n",
    "(e) Rename column\n",
    "\n",
    "<font size = \"3\">\n",
    "\n",
    "- Rename the column \"grid\" to \"grid_placement\"\n",
    "\n",
    "HINT: Create a dictionary and use ```.rename(columns = ...)``` <br>\n",
    "See Lecture 15"
   ]
  },
  {
   "cell_type": "code",
   "execution_count": 31,
   "metadata": {},
   "outputs": [
    {
     "name": "stdout",
     "output_type": "stream",
     "text": [
      "   resultId  raceId  driverId  constructorId  number  grid_placement position  \\\n",
      "0         1    1061       830              9      33               2        1   \n",
      "1         2    1061         1            131      44               1        2   \n",
      "2         3    1061       822            131      77               3        3   \n",
      "3         4    1061       844              6      16               4        4   \n",
      "4         5    1061       846              1       4               6        5   \n",
      "\n",
      "  positionText  positionOrder  points  laps       time milliseconds  \\\n",
      "0            1              1       3    17  25:38.426      1538426   \n",
      "1            2              2       2    17     +1.430      1539856   \n",
      "2            3              3       1    17     +7.502      1545928   \n",
      "3            4              4       0    17    +11.278      1549704   \n",
      "4            5              5       0    17    +24.111      1562537   \n",
      "\n",
      "  fastestLap fastestLapTime  statusId points_brackets  \n",
      "0         14       1:30.013         1            0-20  \n",
      "1         17       1:29.937         1            0-20  \n",
      "2         17       1:29.958         1            0-20  \n",
      "3         16       1:30.163         1            0-20  \n",
      "4         16       1:30.566         1            0-20  \n"
     ]
    }
   ],
   "source": [
    "# Write your own code\n",
    "\n",
    "# Rename \"grid\" to \"grid_placement\"\n",
    "sprint_results_renamed = sprint_results.rename(columns={'grid': 'grid_placement'})\n",
    "\n",
    "\n",
    "print(sprint_results_renamed.head())\n",
    "\n"
   ]
  },
  {
   "cell_type": "markdown",
   "metadata": {},
   "source": [
    "<font size = \"5\">\n",
    "\n",
    "(f) Merge dataset\n",
    "\n",
    "<font size = \"3\">\n",
    "\n",
    "- Create a new dataset with  ```pd.merge()``` using <br>\n",
    "\"sprint_results\" as the primary dataset, and <br>\n",
    "\"constructors\" as the secondary dataset, merging on <br>\n",
    "the column \"constructorId\"\n",
    "- To get full points **ONLY** merge the \"nationality\" column <br>\n",
    "from the secondary dataset (not all the columns)\n",
    "\n",
    "HINT: Use ```[[...]]``` to extract a subset of columns <br>\n",
    "from the secondary dataset before merging, including the <br>\n",
    "\"constructorId\" column. <br>\n",
    "Be careful to notice that \"constructorId\" has an uppercase \"I\".\n",
    "\n",
    "See Lecture 15"
   ]
  },
  {
   "cell_type": "code",
   "execution_count": 32,
   "metadata": {},
   "outputs": [
    {
     "name": "stdout",
     "output_type": "stream",
     "text": [
      "   driverId  constructorId nationality\n",
      "0       830              9    Austrian\n",
      "1         1            131      German\n",
      "2       822            131      German\n",
      "3       844              6     Italian\n",
      "4       846              1          UK\n"
     ]
    }
   ],
   "source": [
    "# Write your own code\n",
    "\n",
    "# Merge datasets and only include the \"nationality\" column from the secondary dataset\n",
    "merged_dataset = pd.merge(sprint_results, \n",
    "                          constructors[['constructorId', 'nationality']], \n",
    "                          on='constructorId', \n",
    "                          how='left')\n",
    "\n",
    "print(merged_dataset[['driverId', 'constructorId', 'nationality']].head())\n",
    "\n",
    "\n",
    "\n"
   ]
  }
 ],
 "metadata": {
  "kernelspec": {
   "display_name": "base",
   "language": "python",
   "name": "python3"
  },
  "language_info": {
   "codemirror_mode": {
    "name": "ipython",
    "version": 3
   },
   "file_extension": ".py",
   "mimetype": "text/x-python",
   "name": "python",
   "nbconvert_exporter": "python",
   "pygments_lexer": "ipython3",
   "version": "3.11.5"
  },
  "orig_nbformat": 4,
  "vscode": {
   "interpreter": {
    "hash": "45fc1f684f6f416f40889115beff3ddf69879b64cf4bfee48cb72a61e9d15d1a"
   }
  }
 },
 "nbformat": 4,
 "nbformat_minor": 2
}
